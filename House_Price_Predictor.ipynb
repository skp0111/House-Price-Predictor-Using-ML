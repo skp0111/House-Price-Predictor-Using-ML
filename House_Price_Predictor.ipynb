{
 "cells": [
  {
   "cell_type": "code",
   "execution_count": 1,
   "metadata": {
    "id": "xuPcnqdDQ7No"
   },
   "outputs": [],
   "source": [
    "# Generic Libraries being imported\n",
    "import pandas as pd\n",
    "import matplotlib.pyplot as plt\n",
    "import numpy as np\n",
    "\n",
    "#Data Set Imported\n",
    "from sklearn.datasets import fetch_california_housing"
   ]
  },
  {
   "cell_type": "code",
   "execution_count": 2,
   "metadata": {
    "id": "SNhWUWiEQ7Nr"
   },
   "outputs": [],
   "source": [
    "data=fetch_california_housing()"
   ]
  },
  {
   "cell_type": "code",
   "execution_count": 3,
   "metadata": {
    "colab": {
     "base_uri": "https://localhost:8080/"
    },
    "id": "UWrn3YzuQ7Ns",
    "outputId": "9c50aac0-ce66-47ba-df4d-45b6183c4d0e"
   },
   "outputs": [
    {
     "name": "stdout",
     "output_type": "stream",
     "text": [
      ".. _california_housing_dataset:\n",
      "\n",
      "California Housing dataset\n",
      "--------------------------\n",
      "\n",
      "**Data Set Characteristics:**\n",
      "\n",
      "    :Number of Instances: 20640\n",
      "\n",
      "    :Number of Attributes: 8 numeric, predictive attributes and the target\n",
      "\n",
      "    :Attribute Information:\n",
      "        - MedInc        median income in block\n",
      "        - HouseAge      median house age in block\n",
      "        - AveRooms      average number of rooms\n",
      "        - AveBedrms     average number of bedrooms\n",
      "        - Population    block population\n",
      "        - AveOccup      average house occupancy\n",
      "        - Latitude      house block latitude\n",
      "        - Longitude     house block longitude\n",
      "\n",
      "    :Missing Attribute Values: None\n",
      "\n",
      "This dataset was obtained from the StatLib repository.\n",
      "http://lib.stat.cmu.edu/datasets/\n",
      "\n",
      "The target variable is the median house value for California districts.\n",
      "\n",
      "This dataset was derived from the 1990 U.S. census, using one row per census\n",
      "block group. A block group is the smallest geographical unit for which the U.S.\n",
      "Census Bureau publishes sample data (a block group typically has a population\n",
      "of 600 to 3,000 people).\n",
      "\n",
      "It can be downloaded/loaded using the\n",
      ":func:`sklearn.datasets.fetch_california_housing` function.\n",
      "\n",
      ".. topic:: References\n",
      "\n",
      "    - Pace, R. Kelley and Ronald Barry, Sparse Spatial Autoregressions,\n",
      "      Statistics and Probability Letters, 33 (1997) 291-297\n",
      "\n"
     ]
    }
   ],
   "source": [
    "print(data.DESCR)"
   ]
  },
  {
   "cell_type": "code",
   "execution_count": 4,
   "metadata": {
    "colab": {
     "base_uri": "https://localhost:8080/",
     "height": 203
    },
    "id": "AHg20HjxQ7Nt",
    "outputId": "40399034-e627-4e7f-abe9-aa2862964f3f"
   },
   "outputs": [
    {
     "data": {
      "text/html": [
       "<div>\n",
       "<style scoped>\n",
       "    .dataframe tbody tr th:only-of-type {\n",
       "        vertical-align: middle;\n",
       "    }\n",
       "\n",
       "    .dataframe tbody tr th {\n",
       "        vertical-align: top;\n",
       "    }\n",
       "\n",
       "    .dataframe thead th {\n",
       "        text-align: right;\n",
       "    }\n",
       "</style>\n",
       "<table border=\"1\" class=\"dataframe\">\n",
       "  <thead>\n",
       "    <tr style=\"text-align: right;\">\n",
       "      <th></th>\n",
       "      <th>MedInc</th>\n",
       "      <th>HouseAge</th>\n",
       "      <th>AveRooms</th>\n",
       "      <th>AveBedrms</th>\n",
       "      <th>Population</th>\n",
       "      <th>AveOccup</th>\n",
       "      <th>Latitude</th>\n",
       "      <th>Longitude</th>\n",
       "    </tr>\n",
       "  </thead>\n",
       "  <tbody>\n",
       "    <tr>\n",
       "      <th>0</th>\n",
       "      <td>8.3252</td>\n",
       "      <td>41.0</td>\n",
       "      <td>6.984127</td>\n",
       "      <td>1.023810</td>\n",
       "      <td>322.0</td>\n",
       "      <td>2.555556</td>\n",
       "      <td>37.88</td>\n",
       "      <td>-122.23</td>\n",
       "    </tr>\n",
       "    <tr>\n",
       "      <th>1</th>\n",
       "      <td>8.3014</td>\n",
       "      <td>21.0</td>\n",
       "      <td>6.238137</td>\n",
       "      <td>0.971880</td>\n",
       "      <td>2401.0</td>\n",
       "      <td>2.109842</td>\n",
       "      <td>37.86</td>\n",
       "      <td>-122.22</td>\n",
       "    </tr>\n",
       "    <tr>\n",
       "      <th>2</th>\n",
       "      <td>7.2574</td>\n",
       "      <td>52.0</td>\n",
       "      <td>8.288136</td>\n",
       "      <td>1.073446</td>\n",
       "      <td>496.0</td>\n",
       "      <td>2.802260</td>\n",
       "      <td>37.85</td>\n",
       "      <td>-122.24</td>\n",
       "    </tr>\n",
       "    <tr>\n",
       "      <th>3</th>\n",
       "      <td>5.6431</td>\n",
       "      <td>52.0</td>\n",
       "      <td>5.817352</td>\n",
       "      <td>1.073059</td>\n",
       "      <td>558.0</td>\n",
       "      <td>2.547945</td>\n",
       "      <td>37.85</td>\n",
       "      <td>-122.25</td>\n",
       "    </tr>\n",
       "    <tr>\n",
       "      <th>4</th>\n",
       "      <td>3.8462</td>\n",
       "      <td>52.0</td>\n",
       "      <td>6.281853</td>\n",
       "      <td>1.081081</td>\n",
       "      <td>565.0</td>\n",
       "      <td>2.181467</td>\n",
       "      <td>37.85</td>\n",
       "      <td>-122.25</td>\n",
       "    </tr>\n",
       "  </tbody>\n",
       "</table>\n",
       "</div>"
      ],
      "text/plain": [
       "   MedInc  HouseAge  AveRooms  AveBedrms  Population  AveOccup  Latitude  \\\n",
       "0  8.3252      41.0  6.984127   1.023810       322.0  2.555556     37.88   \n",
       "1  8.3014      21.0  6.238137   0.971880      2401.0  2.109842     37.86   \n",
       "2  7.2574      52.0  8.288136   1.073446       496.0  2.802260     37.85   \n",
       "3  5.6431      52.0  5.817352   1.073059       558.0  2.547945     37.85   \n",
       "4  3.8462      52.0  6.281853   1.081081       565.0  2.181467     37.85   \n",
       "\n",
       "   Longitude  \n",
       "0    -122.23  \n",
       "1    -122.22  \n",
       "2    -122.24  \n",
       "3    -122.25  \n",
       "4    -122.25  "
      ]
     },
     "execution_count": 4,
     "metadata": {},
     "output_type": "execute_result"
    }
   ],
   "source": [
    "# Independent Data\n",
    "df=pd.DataFrame(data=data.data,columns=data.feature_names)\n",
    "df.head()"
   ]
  },
  {
   "cell_type": "code",
   "execution_count": 5,
   "metadata": {
    "colab": {
     "base_uri": "https://localhost:8080/"
    },
    "id": "rOywgWixQ7Nu",
    "outputId": "42969fb7-d3f0-47e9-819f-5e3bb4a33a7b"
   },
   "outputs": [
    {
     "data": {
      "text/plain": [
       "(20640, 8)"
      ]
     },
     "execution_count": 5,
     "metadata": {},
     "output_type": "execute_result"
    }
   ],
   "source": [
    "data.data.shape"
   ]
  },
  {
   "cell_type": "code",
   "execution_count": 6,
   "metadata": {
    "colab": {
     "base_uri": "https://localhost:8080/",
     "height": 203
    },
    "id": "BYBPw5aZQ7Nu",
    "outputId": "5973a6e7-26cc-4cb4-9753-ad28928c5b0c"
   },
   "outputs": [
    {
     "data": {
      "text/html": [
       "<div>\n",
       "<style scoped>\n",
       "    .dataframe tbody tr th:only-of-type {\n",
       "        vertical-align: middle;\n",
       "    }\n",
       "\n",
       "    .dataframe tbody tr th {\n",
       "        vertical-align: top;\n",
       "    }\n",
       "\n",
       "    .dataframe thead th {\n",
       "        text-align: right;\n",
       "    }\n",
       "</style>\n",
       "<table border=\"1\" class=\"dataframe\">\n",
       "  <thead>\n",
       "    <tr style=\"text-align: right;\">\n",
       "      <th></th>\n",
       "      <th>MedInc</th>\n",
       "      <th>HouseAge</th>\n",
       "      <th>AveRooms</th>\n",
       "      <th>AveBedrms</th>\n",
       "      <th>Population</th>\n",
       "      <th>AveOccup</th>\n",
       "      <th>Latitude</th>\n",
       "      <th>Longitude</th>\n",
       "      <th>Target</th>\n",
       "    </tr>\n",
       "  </thead>\n",
       "  <tbody>\n",
       "    <tr>\n",
       "      <th>0</th>\n",
       "      <td>8.3252</td>\n",
       "      <td>41.0</td>\n",
       "      <td>6.984127</td>\n",
       "      <td>1.023810</td>\n",
       "      <td>322.0</td>\n",
       "      <td>2.555556</td>\n",
       "      <td>37.88</td>\n",
       "      <td>-122.23</td>\n",
       "      <td>4.526</td>\n",
       "    </tr>\n",
       "    <tr>\n",
       "      <th>1</th>\n",
       "      <td>8.3014</td>\n",
       "      <td>21.0</td>\n",
       "      <td>6.238137</td>\n",
       "      <td>0.971880</td>\n",
       "      <td>2401.0</td>\n",
       "      <td>2.109842</td>\n",
       "      <td>37.86</td>\n",
       "      <td>-122.22</td>\n",
       "      <td>3.585</td>\n",
       "    </tr>\n",
       "    <tr>\n",
       "      <th>2</th>\n",
       "      <td>7.2574</td>\n",
       "      <td>52.0</td>\n",
       "      <td>8.288136</td>\n",
       "      <td>1.073446</td>\n",
       "      <td>496.0</td>\n",
       "      <td>2.802260</td>\n",
       "      <td>37.85</td>\n",
       "      <td>-122.24</td>\n",
       "      <td>3.521</td>\n",
       "    </tr>\n",
       "    <tr>\n",
       "      <th>3</th>\n",
       "      <td>5.6431</td>\n",
       "      <td>52.0</td>\n",
       "      <td>5.817352</td>\n",
       "      <td>1.073059</td>\n",
       "      <td>558.0</td>\n",
       "      <td>2.547945</td>\n",
       "      <td>37.85</td>\n",
       "      <td>-122.25</td>\n",
       "      <td>3.413</td>\n",
       "    </tr>\n",
       "    <tr>\n",
       "      <th>4</th>\n",
       "      <td>3.8462</td>\n",
       "      <td>52.0</td>\n",
       "      <td>6.281853</td>\n",
       "      <td>1.081081</td>\n",
       "      <td>565.0</td>\n",
       "      <td>2.181467</td>\n",
       "      <td>37.85</td>\n",
       "      <td>-122.25</td>\n",
       "      <td>3.422</td>\n",
       "    </tr>\n",
       "  </tbody>\n",
       "</table>\n",
       "</div>"
      ],
      "text/plain": [
       "   MedInc  HouseAge  AveRooms  AveBedrms  Population  AveOccup  Latitude  \\\n",
       "0  8.3252      41.0  6.984127   1.023810       322.0  2.555556     37.88   \n",
       "1  8.3014      21.0  6.238137   0.971880      2401.0  2.109842     37.86   \n",
       "2  7.2574      52.0  8.288136   1.073446       496.0  2.802260     37.85   \n",
       "3  5.6431      52.0  5.817352   1.073059       558.0  2.547945     37.85   \n",
       "4  3.8462      52.0  6.281853   1.081081       565.0  2.181467     37.85   \n",
       "\n",
       "   Longitude  Target  \n",
       "0    -122.23   4.526  \n",
       "1    -122.22   3.585  \n",
       "2    -122.24   3.521  \n",
       "3    -122.25   3.413  \n",
       "4    -122.25   3.422  "
      ]
     },
     "execution_count": 6,
     "metadata": {},
     "output_type": "execute_result"
    }
   ],
   "source": [
    "# Dependent Variable\n",
    "df['Target']=data.target\n",
    "df.head()"
   ]
  },
  {
   "cell_type": "markdown",
   "metadata": {
    "id": "5nuT80W2Q7Nu"
   },
   "source": [
    "# Exploring Data"
   ]
  },
  {
   "cell_type": "code",
   "execution_count": 7,
   "metadata": {
    "colab": {
     "base_uri": "https://localhost:8080/",
     "height": 86,
     "referenced_widgets": [
      "5e8d0944415b470ba615c112f7c0827a",
      "026001999b764ad0b24397aec0f433ca",
      "84d3115eaf1f4e33af35fa368b315eae",
      "3863b3ccac3d4fa1a5f145ee15776859",
      "83c6ba102e8044038a94bf18900ea732",
      "abb6f0b851ab468ea50edefe2885e4c4",
      "3776474d15a847b199058820fd918b8c",
      "e3f78c44c632454db74a192d7d4242a8",
      "886677e9c9bc45d9931a8ebc0430d8c8",
      "9ce185fe997b4cf2a47a73effe9b77e5",
      "9d980e0f44f347fbacc029097a5fc48d"
     ]
    },
    "id": "U9Kt7oCkQ7Nw",
    "outputId": "130bfde8-d833-4111-b1e5-97fce63f37cc"
   },
   "outputs": [
    {
     "data": {
      "image/png": "[encoded data removed]",
      "text/plain": [
       "<Figure size 1440x1800 with 8 Axes>"
      ]
     },
     "metadata": {
      "needs_background": "light"
     },
     "output_type": "display_data"
    }
   ],
   "source": [
    "import seaborn as sns\n",
    "plt.figure(figsize=(20,25))\n",
    "plotnumber=1\n",
    "for column in df:\n",
    "    if plotnumber<=8:\n",
    "        ax=plt.subplot(3,3,plotnumber)\n",
    "        sns.histplot(df[column],kde=True)\n",
    "        plt.xlabel(column,fontsize=20)\n",
    "    plotnumber += 1\n",
    "plt.show()"
   ]
  },
  {
   "cell_type": "markdown",
   "metadata": {
    "id": "7zBDbW_sQ7Nw"
   },
   "source": [
    "# Data Pre-Processing"
   ]
  },
  {
   "cell_type": "code",
   "execution_count": 10,
   "metadata": {
    "id": "zqyZWPvWQ7Nx"
   },
   "outputs": [],
   "source": [
    "#Feature Engineering\n",
    "from geopy.geocoders import Nominatim\n",
    "geolocator=Nominatim(user_agent='geoapiExercises')"
   ]
  },
  {
   "cell_type": "code",
   "execution_count": 11,
   "metadata": {
    "colab": {
     "base_uri": "https://localhost:8080/"
    },
    "id": "H0gMPPuqQ7Ny",
    "outputId": "7a2d9d72-3510-4877-f4e2-c50e9baf141d"
   },
   "outputs": [
    {
     "data": {
      "text/plain": [
       "{'leisure': 'Ecological Study Area',\n",
       " 'road': 'Willow Trail',\n",
       " 'city': 'Oakland',\n",
       " 'county': 'Alameda County',\n",
       " 'state': 'California',\n",
       " 'postcode': '94720-1076',\n",
       " 'country': 'United States',\n",
       " 'country_code': 'us'}"
      ]
     },
     "execution_count": 11,
     "metadata": {},
     "output_type": "execute_result"
    }
   ],
   "source": [
    "geolocator.reverse(\"37.88\"+\" , \"+\"-122.23\").raw['address']"
   ]
  },
  {
   "cell_type": "code",
   "execution_count": 12,
   "metadata": {
    "id": "gg2bbF4vQ7Ny"
   },
   "outputs": [],
   "source": [
    "def location(cord):\n",
    "    Latitude=str(cord[0])\n",
    "    Longitude=str(cord[1])\n",
    "    \n",
    "    #returns a dictionary\n",
    "    location=geolocator.reverse(Latitude +\" , \"+Longitude).raw['address']\n",
    "    \n",
    "    if location.get('road') is None:\n",
    "        location['road']=None\n",
    "    \n",
    "    if location.get('county') is None:\n",
    "        location['county']=None\n",
    "    loc_update['county'].append(location['county'])\n",
    "    loc_update['road'].append(location['road'])"
   ]
  },
  {
   "cell_type": "code",
   "execution_count": 13,
   "metadata": {
    "id": "ipscTRpQQ7Nz"
   },
   "outputs": [],
   "source": [
    "# import pickle\n",
    "# loc_update={\"county\":[],\"road\":[]}\n",
    "\n",
    "# for i, cord in enumerate(df.iloc[:,6:-1].values):\n",
    "#     location(cord)\n",
    "#     pickle.dump(loc_update, open('loc_update.pickle','wb'))\n",
    "#     if i%100==0:\n",
    "#       print(i)"
   ]
  },
  {
   "cell_type": "code",
   "execution_count": 14,
   "metadata": {
    "colab": {
     "base_uri": "https://localhost:8080/"
    },
    "id": "Ha3ZK6LvQ7Nz",
    "outputId": "e804381d-736d-4fe4-8c37-1eb4c3792222"
   },
   "outputs": [
    {
     "name": "stdout",
     "output_type": "stream",
     "text": [
      "<class 'pandas.core.frame.DataFrame'>\n",
      "RangeIndex: 20640 entries, 0 to 20639\n",
      "Data columns (total 2 columns):\n",
      " #   Column  Non-Null Count  Dtype \n",
      "---  ------  --------------  ----- \n",
      " 0   county  15262 non-null  object\n",
      " 1   road    19498 non-null  object\n",
      "dtypes: object(2)\n",
      "memory usage: 322.6+ KB\n"
     ]
    }
   ],
   "source": [
    "import pickle\n",
    "loc_update=pickle.load(open(\"./loc_update.pickle\",\"rb\"))\n",
    "loc=pd.DataFrame(loc_update)\n",
    "loc.info()"
   ]
  },
  {
   "cell_type": "code",
   "execution_count": 15,
   "metadata": {
    "id": "bWp-BKA3Gbjl"
   },
   "outputs": [],
   "source": [
    "# Adding new feature to data frame\n",
    "for i in loc_update.keys():\n",
    "    df[i]=loc_update[i]\n",
    "df=df.sample(axis=0, frac=1)\n"
   ]
  },
  {
   "cell_type": "code",
   "execution_count": 16,
   "metadata": {
    "colab": {
     "base_uri": "https://localhost:8080/",
     "height": 203
    },
    "id": "0bgBvgSxGdpi",
    "outputId": "6f06f49d-18fd-4276-b9b6-59113365ffd6"
   },
   "outputs": [
    {
     "data": {
      "text/html": [
       "<div>\n",
       "<style scoped>\n",
       "    .dataframe tbody tr th:only-of-type {\n",
       "        vertical-align: middle;\n",
       "    }\n",
       "\n",
       "    .dataframe tbody tr th {\n",
       "        vertical-align: top;\n",
       "    }\n",
       "\n",
       "    .dataframe thead th {\n",
       "        text-align: right;\n",
       "    }\n",
       "</style>\n",
       "<table border=\"1\" class=\"dataframe\">\n",
       "  <thead>\n",
       "    <tr style=\"text-align: right;\">\n",
       "      <th></th>\n",
       "      <th>MedInc</th>\n",
       "      <th>HouseAge</th>\n",
       "      <th>AveRooms</th>\n",
       "      <th>AveBedrms</th>\n",
       "      <th>Population</th>\n",
       "      <th>AveOccup</th>\n",
       "      <th>Target</th>\n",
       "      <th>county</th>\n",
       "      <th>road</th>\n",
       "    </tr>\n",
       "  </thead>\n",
       "  <tbody>\n",
       "    <tr>\n",
       "      <th>2612</th>\n",
       "      <td>2.1726</td>\n",
       "      <td>23.0</td>\n",
       "      <td>4.287179</td>\n",
       "      <td>0.987179</td>\n",
       "      <td>1060.0</td>\n",
       "      <td>2.717949</td>\n",
       "      <td>0.755</td>\n",
       "      <td>Humboldt County</td>\n",
       "      <td>None</td>\n",
       "    </tr>\n",
       "    <tr>\n",
       "      <th>15189</th>\n",
       "      <td>4.3571</td>\n",
       "      <td>16.0</td>\n",
       "      <td>4.142857</td>\n",
       "      <td>0.952381</td>\n",
       "      <td>32.0</td>\n",
       "      <td>1.523810</td>\n",
       "      <td>1.446</td>\n",
       "      <td>San Diego County</td>\n",
       "      <td>Plaza Otonal</td>\n",
       "    </tr>\n",
       "    <tr>\n",
       "      <th>7714</th>\n",
       "      <td>5.0526</td>\n",
       "      <td>36.0</td>\n",
       "      <td>6.088496</td>\n",
       "      <td>1.015487</td>\n",
       "      <td>1211.0</td>\n",
       "      <td>2.679204</td>\n",
       "      <td>2.698</td>\n",
       "      <td>None</td>\n",
       "      <td>Otto Street</td>\n",
       "    </tr>\n",
       "    <tr>\n",
       "      <th>10722</th>\n",
       "      <td>4.1944</td>\n",
       "      <td>8.0</td>\n",
       "      <td>2.909091</td>\n",
       "      <td>0.818182</td>\n",
       "      <td>26.0</td>\n",
       "      <td>2.363636</td>\n",
       "      <td>2.708</td>\n",
       "      <td>Orange County</td>\n",
       "      <td>Copper Creek</td>\n",
       "    </tr>\n",
       "    <tr>\n",
       "      <th>18911</th>\n",
       "      <td>3.7240</td>\n",
       "      <td>15.0</td>\n",
       "      <td>5.151276</td>\n",
       "      <td>1.068651</td>\n",
       "      <td>5008.0</td>\n",
       "      <td>3.042527</td>\n",
       "      <td>1.316</td>\n",
       "      <td>Solano County</td>\n",
       "      <td>CA 37</td>\n",
       "    </tr>\n",
       "  </tbody>\n",
       "</table>\n",
       "</div>"
      ],
      "text/plain": [
       "       MedInc  HouseAge  AveRooms  AveBedrms  Population  AveOccup  Target  \\\n",
       "2612   2.1726      23.0  4.287179   0.987179      1060.0  2.717949   0.755   \n",
       "15189  4.3571      16.0  4.142857   0.952381        32.0  1.523810   1.446   \n",
       "7714   5.0526      36.0  6.088496   1.015487      1211.0  2.679204   2.698   \n",
       "10722  4.1944       8.0  2.909091   0.818182        26.0  2.363636   2.708   \n",
       "18911  3.7240      15.0  5.151276   1.068651      5008.0  3.042527   1.316   \n",
       "\n",
       "                 county          road  \n",
       "2612    Humboldt County          None  \n",
       "15189  San Diego County  Plaza Otonal  \n",
       "7714               None   Otto Street  \n",
       "10722     Orange County  Copper Creek  \n",
       "18911     Solano County         CA 37  "
      ]
     },
     "execution_count": 16,
     "metadata": {},
     "output_type": "execute_result"
    }
   ],
   "source": [
    "#Dropping latitude adn longitude from data frame\n",
    "df.drop(labels=[\"Latitude\", \"Longitude\"],axis=1,inplace=True)\n",
    "df.head()"
   ]
  },
  {
   "cell_type": "code",
   "execution_count": 17,
   "metadata": {
    "colab": {
     "base_uri": "https://localhost:8080/"
    },
    "id": "cf2cu-qCGf9c",
    "outputId": "87d8c1a6-c873-4955-9225-220cf0041f0b"
   },
   "outputs": [
    {
     "name": "stdout",
     "output_type": "stream",
     "text": [
      "<class 'pandas.core.frame.DataFrame'>\n",
      "Int64Index: 20640 entries, 2612 to 4081\n",
      "Data columns (total 9 columns):\n",
      " #   Column      Non-Null Count  Dtype  \n",
      "---  ------      --------------  -----  \n",
      " 0   MedInc      20640 non-null  float64\n",
      " 1   HouseAge    20640 non-null  float64\n",
      " 2   AveRooms    20640 non-null  float64\n",
      " 3   AveBedrms   20640 non-null  float64\n",
      " 4   Population  20640 non-null  float64\n",
      " 5   AveOccup    20640 non-null  float64\n",
      " 6   Target      20640 non-null  float64\n",
      " 7   county      15262 non-null  object \n",
      " 8   road        19498 non-null  object \n",
      "dtypes: float64(7), object(2)\n",
      "memory usage: 1.6+ MB\n"
     ]
    }
   ],
   "source": [
    "df.info()"
   ]
  },
  {
   "cell_type": "markdown",
   "metadata": {
    "id": "y47LurrmG58L"
   },
   "source": [
    "## Using Classification Algorithm to fill the missing data"
   ]
  },
  {
   "cell_type": "code",
   "execution_count": 18,
   "metadata": {
    "id": "Nt4cEth8GllA"
   },
   "outputs": [],
   "source": [
    "# applying logistic regression to find the missing values\n",
    "missing_idx=[]\n",
    "for i in range(df.shape[0]):\n",
    "    if df['road'][i] is None:\n",
    "        missing_idx.append(i)\n",
    "# Independent Parameters\n",
    "missing_road_x_train=np.array([ [df['MedInc'][i], df['AveRooms'][i], df['AveBedrms'][i]] for i in range(df.shape[0]) if i not in missing_idx])\n",
    "# Dependent Parameters\n",
    "missing_road_y_train=np.array([ df['road'][i] for i in range(df.shape[0]) if i not in missing_idx])\n",
    "    \n",
    "missing_road_x_test=np.array([ [df['MedInc'][i], df['AveRooms'][i], df['AveBedrms'][i]] for i in range(df.shape[0]) if i in missing_idx])"
   ]
  },
  {
   "cell_type": "code",
   "execution_count": 19,
   "metadata": {
    "id": "HH9JiaG9GoEM"
   },
   "outputs": [],
   "source": [
    "from sklearn.linear_model import SGDClassifier\n",
    "\n",
    "#Initiating the model\n",
    "model_1=SGDClassifier()\n",
    "\n",
    "#Training Model\n",
    "model_1.fit(missing_road_x_train,missing_road_y_train)\n",
    "\n",
    "missing_road_y_pred=model_1.predict(missing_road_x_test)"
   ]
  },
  {
   "cell_type": "code",
   "execution_count": 20,
   "metadata": {
    "colab": {
     "base_uri": "https://localhost:8080/"
    },
    "id": "aA2qe4dNHtXc",
    "outputId": "d00f30e6-146f-40d4-cb50-4bbcd8255910"
   },
   "outputs": [
    {
     "data": {
      "text/plain": [
       "array(['20th Street', 'Cherokee Lane', 'East Andrews Avenue',\n",
       "       'Knott Street', 'Laurelei Avenue', 'Maricopa Street',\n",
       "       'Mount Tallac Trail (17E33B)', 'Rogue Street', 'West Main Street',\n",
       "       'Whittier Boulevard'], dtype='<U77')"
      ]
     },
     "execution_count": 20,
     "metadata": {},
     "output_type": "execute_result"
    }
   ],
   "source": [
    "np.unique(missing_road_y_pred)"
   ]
  },
  {
   "cell_type": "code",
   "execution_count": 21,
   "metadata": {
    "colab": {
     "base_uri": "https://localhost:8080/"
    },
    "id": "mkUmUm7ZI7zd",
    "outputId": "16a292e3-c2a9-4bcb-a46a-c20d2403ebbe"
   },
   "outputs": [
    {
     "name": "stderr",
     "output_type": "stream",
     "text": [
      "<ipython-input-21-798ff5db107b>:3: SettingWithCopyWarning: \n",
      "A value is trying to be set on a copy of a slice from a DataFrame\n",
      "\n",
      "See the caveats in the documentation: https://pandas.pydata.org/pandas-docs/stable/user_guide/indexing.html#returning-a-view-versus-a-copy\n",
      "  df['road'][i]=missing_road_y_pred[n]\n"
     ]
    }
   ],
   "source": [
    "# add the modeled data back to the data frame\n",
    "for n,i in enumerate(missing_idx):\n",
    "  df['road'][i]=missing_road_y_pred[n]"
   ]
  },
  {
   "cell_type": "code",
   "execution_count": 22,
   "metadata": {
    "colab": {
     "base_uri": "https://localhost:8080/",
     "height": 203
    },
    "id": "wWXgS6Y1JZsw",
    "outputId": "e96e5a01-4042-48e2-a359-c7010bc01859"
   },
   "outputs": [
    {
     "data": {
      "text/html": [
       "<div>\n",
       "<style scoped>\n",
       "    .dataframe tbody tr th:only-of-type {\n",
       "        vertical-align: middle;\n",
       "    }\n",
       "\n",
       "    .dataframe tbody tr th {\n",
       "        vertical-align: top;\n",
       "    }\n",
       "\n",
       "    .dataframe thead th {\n",
       "        text-align: right;\n",
       "    }\n",
       "</style>\n",
       "<table border=\"1\" class=\"dataframe\">\n",
       "  <thead>\n",
       "    <tr style=\"text-align: right;\">\n",
       "      <th></th>\n",
       "      <th>MedInc</th>\n",
       "      <th>HouseAge</th>\n",
       "      <th>AveRooms</th>\n",
       "      <th>AveBedrms</th>\n",
       "      <th>Population</th>\n",
       "      <th>AveOccup</th>\n",
       "      <th>Target</th>\n",
       "      <th>county</th>\n",
       "      <th>road</th>\n",
       "    </tr>\n",
       "  </thead>\n",
       "  <tbody>\n",
       "    <tr>\n",
       "      <th>2612</th>\n",
       "      <td>2.1726</td>\n",
       "      <td>23.0</td>\n",
       "      <td>4.287179</td>\n",
       "      <td>0.987179</td>\n",
       "      <td>1060.0</td>\n",
       "      <td>2.717949</td>\n",
       "      <td>0.755</td>\n",
       "      <td>Humboldt County</td>\n",
       "      <td>48</td>\n",
       "    </tr>\n",
       "    <tr>\n",
       "      <th>15189</th>\n",
       "      <td>4.3571</td>\n",
       "      <td>16.0</td>\n",
       "      <td>4.142857</td>\n",
       "      <td>0.952381</td>\n",
       "      <td>32.0</td>\n",
       "      <td>1.523810</td>\n",
       "      <td>1.446</td>\n",
       "      <td>San Diego County</td>\n",
       "      <td>6177</td>\n",
       "    </tr>\n",
       "    <tr>\n",
       "      <th>7714</th>\n",
       "      <td>5.0526</td>\n",
       "      <td>36.0</td>\n",
       "      <td>6.088496</td>\n",
       "      <td>1.015487</td>\n",
       "      <td>1211.0</td>\n",
       "      <td>2.679204</td>\n",
       "      <td>2.698</td>\n",
       "      <td>None</td>\n",
       "      <td>5869</td>\n",
       "    </tr>\n",
       "    <tr>\n",
       "      <th>10722</th>\n",
       "      <td>4.1944</td>\n",
       "      <td>8.0</td>\n",
       "      <td>2.909091</td>\n",
       "      <td>0.818182</td>\n",
       "      <td>26.0</td>\n",
       "      <td>2.363636</td>\n",
       "      <td>2.708</td>\n",
       "      <td>Orange County</td>\n",
       "      <td>1789</td>\n",
       "    </tr>\n",
       "    <tr>\n",
       "      <th>18911</th>\n",
       "      <td>3.7240</td>\n",
       "      <td>15.0</td>\n",
       "      <td>5.151276</td>\n",
       "      <td>1.068651</td>\n",
       "      <td>5008.0</td>\n",
       "      <td>3.042527</td>\n",
       "      <td>1.316</td>\n",
       "      <td>Solano County</td>\n",
       "      <td>1164</td>\n",
       "    </tr>\n",
       "  </tbody>\n",
       "</table>\n",
       "</div>"
      ],
      "text/plain": [
       "       MedInc  HouseAge  AveRooms  AveBedrms  Population  AveOccup  Target  \\\n",
       "2612   2.1726      23.0  4.287179   0.987179      1060.0  2.717949   0.755   \n",
       "15189  4.3571      16.0  4.142857   0.952381        32.0  1.523810   1.446   \n",
       "7714   5.0526      36.0  6.088496   1.015487      1211.0  2.679204   2.698   \n",
       "10722  4.1944       8.0  2.909091   0.818182        26.0  2.363636   2.708   \n",
       "18911  3.7240      15.0  5.151276   1.068651      5008.0  3.042527   1.316   \n",
       "\n",
       "                 county  road  \n",
       "2612    Humboldt County    48  \n",
       "15189  San Diego County  6177  \n",
       "7714               None  5869  \n",
       "10722     Orange County  1789  \n",
       "18911     Solano County  1164  "
      ]
     },
     "execution_count": 22,
     "metadata": {},
     "output_type": "execute_result"
    }
   ],
   "source": [
    "from sklearn.preprocessing import LabelEncoder\n",
    "\n",
    "le=LabelEncoder()\n",
    "\n",
    "df['road']=le.fit_transform(df['road'])\n",
    "\n",
    "df.head()"
   ]
  },
  {
   "cell_type": "code",
   "execution_count": 23,
   "metadata": {
    "id": "zD1U-ul1J2gn"
   },
   "outputs": [],
   "source": [
    "# applying logistic regression to find the missing values\n",
    "missing_idx=[]\n",
    "for i in range(df.shape[0]):\n",
    "    if df['county'][i] is None:\n",
    "        missing_idx.append(i)\n",
    "# Independent Parameters\n",
    "missing_county_x_train=np.array([ [df['MedInc'][i], df['AveRooms'][i], df['AveBedrms'][i]] for i in range(df.shape[0]) if i not in missing_idx])\n",
    "# Dependent Parameters\n",
    "missing_county_y_train=np.array([ df['county'][i] for i in range(df.shape[0]) if i not in missing_idx])\n",
    "    \n",
    "missing_county_x_test=np.array([ [df['MedInc'][i], df['AveRooms'][i], df['AveBedrms'][i]] for i in range(df.shape[0]) if i in missing_idx])"
   ]
  },
  {
   "cell_type": "code",
   "execution_count": 24,
   "metadata": {
    "colab": {
     "base_uri": "https://localhost:8080/"
    },
    "id": "UKJ69hUYKzTx",
    "outputId": "95857b6c-86ec-4b3f-9730-181310d602d6"
   },
   "outputs": [
    {
     "data": {
      "text/plain": [
       "array(['Alameda County', 'Alameda County', 'Alameda County', ...,\n",
       "       'Yuba County', 'Yuba County', 'Yuba County'], dtype='<U22')"
      ]
     },
     "execution_count": 24,
     "metadata": {},
     "output_type": "execute_result"
    }
   ],
   "source": [
    "missing_county_y_train"
   ]
  },
  {
   "cell_type": "code",
   "execution_count": 25,
   "metadata": {
    "id": "dlijz5FSJ2go"
   },
   "outputs": [],
   "source": [
    "#Training Model\n",
    "model_2=SGDClassifier()\n",
    "\n",
    "model_2.fit(missing_county_x_train,missing_county_y_train)\n",
    "\n",
    "missing_county_y_pred=model_2.predict(missing_county_x_test)"
   ]
  },
  {
   "cell_type": "code",
   "execution_count": 26,
   "metadata": {
    "colab": {
     "base_uri": "https://localhost:8080/"
    },
    "id": "hon9nkxvJ2go",
    "outputId": "b5c7dc4a-49d6-4fb3-dc31-ebf7e66767ca"
   },
   "outputs": [
    {
     "data": {
      "text/plain": [
       "array(['Mendocino County', 'Orange County', 'San Francisco',\n",
       "       'San Mateo County', 'Siskiyou County'], dtype='<U22')"
      ]
     },
     "execution_count": 26,
     "metadata": {},
     "output_type": "execute_result"
    }
   ],
   "source": [
    "np.unique(missing_county_y_pred)"
   ]
  },
  {
   "cell_type": "code",
   "execution_count": 27,
   "metadata": {
    "colab": {
     "base_uri": "https://localhost:8080/",
     "height": 287
    },
    "id": "h7lzDm8_J2go",
    "outputId": "8f3d2116-5695-4029-90a0-b261511ff255"
   },
   "outputs": [
    {
     "name": "stderr",
     "output_type": "stream",
     "text": [
      "<ipython-input-27-80a5952b5351>:3: SettingWithCopyWarning: \n",
      "A value is trying to be set on a copy of a slice from a DataFrame\n",
      "\n",
      "See the caveats in the documentation: https://pandas.pydata.org/pandas-docs/stable/user_guide/indexing.html#returning-a-view-versus-a-copy\n",
      "  df['county'][i]=missing_county_y_pred[n]\n"
     ]
    },
    {
     "data": {
      "text/html": [
       "<div>\n",
       "<style scoped>\n",
       "    .dataframe tbody tr th:only-of-type {\n",
       "        vertical-align: middle;\n",
       "    }\n",
       "\n",
       "    .dataframe tbody tr th {\n",
       "        vertical-align: top;\n",
       "    }\n",
       "\n",
       "    .dataframe thead th {\n",
       "        text-align: right;\n",
       "    }\n",
       "</style>\n",
       "<table border=\"1\" class=\"dataframe\">\n",
       "  <thead>\n",
       "    <tr style=\"text-align: right;\">\n",
       "      <th></th>\n",
       "      <th>MedInc</th>\n",
       "      <th>HouseAge</th>\n",
       "      <th>AveRooms</th>\n",
       "      <th>AveBedrms</th>\n",
       "      <th>Population</th>\n",
       "      <th>AveOccup</th>\n",
       "      <th>Target</th>\n",
       "      <th>county</th>\n",
       "      <th>road</th>\n",
       "    </tr>\n",
       "  </thead>\n",
       "  <tbody>\n",
       "    <tr>\n",
       "      <th>2612</th>\n",
       "      <td>2.1726</td>\n",
       "      <td>23.0</td>\n",
       "      <td>4.287179</td>\n",
       "      <td>0.987179</td>\n",
       "      <td>1060.0</td>\n",
       "      <td>2.717949</td>\n",
       "      <td>0.755</td>\n",
       "      <td>12</td>\n",
       "      <td>48</td>\n",
       "    </tr>\n",
       "    <tr>\n",
       "      <th>15189</th>\n",
       "      <td>4.3571</td>\n",
       "      <td>16.0</td>\n",
       "      <td>4.142857</td>\n",
       "      <td>0.952381</td>\n",
       "      <td>32.0</td>\n",
       "      <td>1.523810</td>\n",
       "      <td>1.446</td>\n",
       "      <td>39</td>\n",
       "      <td>6177</td>\n",
       "    </tr>\n",
       "    <tr>\n",
       "      <th>7714</th>\n",
       "      <td>5.0526</td>\n",
       "      <td>36.0</td>\n",
       "      <td>6.088496</td>\n",
       "      <td>1.015487</td>\n",
       "      <td>1211.0</td>\n",
       "      <td>2.679204</td>\n",
       "      <td>2.698</td>\n",
       "      <td>24</td>\n",
       "      <td>5869</td>\n",
       "    </tr>\n",
       "    <tr>\n",
       "      <th>10722</th>\n",
       "      <td>4.1944</td>\n",
       "      <td>8.0</td>\n",
       "      <td>2.909091</td>\n",
       "      <td>0.818182</td>\n",
       "      <td>26.0</td>\n",
       "      <td>2.363636</td>\n",
       "      <td>2.708</td>\n",
       "      <td>32</td>\n",
       "      <td>1789</td>\n",
       "    </tr>\n",
       "    <tr>\n",
       "      <th>18911</th>\n",
       "      <td>3.7240</td>\n",
       "      <td>15.0</td>\n",
       "      <td>5.151276</td>\n",
       "      <td>1.068651</td>\n",
       "      <td>5008.0</td>\n",
       "      <td>3.042527</td>\n",
       "      <td>1.316</td>\n",
       "      <td>50</td>\n",
       "      <td>1164</td>\n",
       "    </tr>\n",
       "  </tbody>\n",
       "</table>\n",
       "</div>"
      ],
      "text/plain": [
       "       MedInc  HouseAge  AveRooms  AveBedrms  Population  AveOccup  Target  \\\n",
       "2612   2.1726      23.0  4.287179   0.987179      1060.0  2.717949   0.755   \n",
       "15189  4.3571      16.0  4.142857   0.952381        32.0  1.523810   1.446   \n",
       "7714   5.0526      36.0  6.088496   1.015487      1211.0  2.679204   2.698   \n",
       "10722  4.1944       8.0  2.909091   0.818182        26.0  2.363636   2.708   \n",
       "18911  3.7240      15.0  5.151276   1.068651      5008.0  3.042527   1.316   \n",
       "\n",
       "       county  road  \n",
       "2612       12    48  \n",
       "15189      39  6177  \n",
       "7714       24  5869  \n",
       "10722      32  1789  \n",
       "18911      50  1164  "
      ]
     },
     "execution_count": 27,
     "metadata": {},
     "output_type": "execute_result"
    }
   ],
   "source": [
    "# add the modeled data back to the data frame\n",
    "for n,i in enumerate(missing_idx):\n",
    "    df['county'][i]=missing_county_y_pred[n]\n",
    "\n",
    "df['county']=le.fit_transform(df['county'])\n",
    "\n",
    "df.head()"
   ]
  },
  {
   "cell_type": "code",
   "execution_count": 28,
   "metadata": {
    "colab": {
     "base_uri": "https://localhost:8080/"
    },
    "id": "9r88bn8SLuKg",
    "outputId": "cb90c7ef-14f5-4f9d-c407-36ef443fd066"
   },
   "outputs": [
    {
     "name": "stdout",
     "output_type": "stream",
     "text": [
      "<class 'pandas.core.frame.DataFrame'>\n",
      "Int64Index: 20640 entries, 2612 to 4081\n",
      "Data columns (total 9 columns):\n",
      " #   Column      Non-Null Count  Dtype  \n",
      "---  ------      --------------  -----  \n",
      " 0   MedInc      20640 non-null  float64\n",
      " 1   HouseAge    20640 non-null  float64\n",
      " 2   AveRooms    20640 non-null  float64\n",
      " 3   AveBedrms   20640 non-null  float64\n",
      " 4   Population  20640 non-null  float64\n",
      " 5   AveOccup    20640 non-null  float64\n",
      " 6   Target      20640 non-null  float64\n",
      " 7   county      20640 non-null  int32  \n",
      " 8   road        20640 non-null  int32  \n",
      "dtypes: float64(7), int32(2)\n",
      "memory usage: 2.0 MB\n"
     ]
    }
   ],
   "source": [
    "df.info()"
   ]
  },
  {
   "cell_type": "markdown",
   "metadata": {
    "id": "ljgPOzOGL0q2"
   },
   "source": [
    "## Understanding which model to use"
   ]
  },
  {
   "cell_type": "code",
   "execution_count": 29,
   "metadata": {
    "id": "gi3ms-7kLxck"
   },
   "outputs": [],
   "source": [
    "# Dependent Values\n",
    "y=df.iloc[:,6].values\n",
    "df1=df\n",
    "df.drop(labels=['Target'],axis=1,inplace=True)"
   ]
  },
  {
   "cell_type": "code",
   "execution_count": 30,
   "metadata": {
    "id": "9XUW6BGlL_CP"
   },
   "outputs": [],
   "source": [
    "#Independent Values\n",
    "x=df.iloc[:,:].values"
   ]
  },
  {
   "cell_type": "code",
   "execution_count": 31,
   "metadata": {
    "id": "c4F4s9M-Mh38"
   },
   "outputs": [],
   "source": [
    "from sklearn.model_selection import train_test_split\n",
    "x_train, x_test, y_train, y_test = train_test_split(x, y, test_size=0.20, random_state=42)"
   ]
  },
  {
   "cell_type": "code",
   "execution_count": 32,
   "metadata": {
    "colab": {
     "base_uri": "https://localhost:8080/"
    },
    "id": "jyf99EovNH4Q",
    "outputId": "656e47e2-fba1-4954-f4aa-d06fa0994183"
   },
   "outputs": [
    {
     "data": {
      "text/plain": [
       "RandomForestRegressor()"
      ]
     },
     "execution_count": 32,
     "metadata": {},
     "output_type": "execute_result"
    }
   ],
   "source": [
    "from sklearn.ensemble import RandomForestRegressor\n",
    "model = RandomForestRegressor()\n",
    "model.fit(x_train,y_train)"
   ]
  },
  {
   "cell_type": "code",
   "execution_count": 33,
   "metadata": {
    "id": "RMS2V2pjNN6D"
   },
   "outputs": [],
   "source": [
    "# Model Prediction\n",
    "\n",
    "y_pred=model.predict(x_test)"
   ]
  },
  {
   "cell_type": "code",
   "execution_count": 34,
   "metadata": {
    "colab": {
     "base_uri": "https://localhost:8080/"
    },
    "id": "y9BIRnH7No1l",
    "outputId": "b610d673-6ba0-4cda-b093-a61ff3397967"
   },
   "outputs": [
    {
     "data": {
      "text/plain": [
       "75.91696855420209"
      ]
     },
     "execution_count": 34,
     "metadata": {},
     "output_type": "execute_result"
    }
   ],
   "source": [
    "#Model Accuracy\n",
    "\n",
    "from sklearn.metrics import r2_score\n",
    "\n",
    "r2_score(y_test, y_pred)*100"
   ]
  },
  {
   "cell_type": "code",
   "execution_count": null,
   "metadata": {
    "id": "I7Wvx-4BN2Fn"
   },
   "outputs": [],
   "source": []
  }
 ],
 "metadata": {
  "colab": {
   "name": "House Price Predictor.ipynb",
   "provenance": []
  },
  "kernelspec": {
   "display_name": "Python 3",
   "language": "python",
   "name": "python3"
  },
  "language_info": {
   "codemirror_mode": {
    "name": "ipython",
    "version": 3
   },
   "file_extension": ".py",
   "mimetype": "text/x-python",
   "name": "python",
   "nbconvert_exporter": "python",
   "pygments_lexer": "ipython3",
   "version": "3.8.5"
  },
  "widgets": {
   "application/vnd.jupyter.widget-state+json": {
    "026001999b764ad0b24397aec0f433ca": {
     "model_module": "@jupyter-widgets/base",
     "model_module_version": "1.2.0",
     "model_name": "LayoutModel",
     "state": {
      "_model_module": "@jupyter-widgets/base",
      "_model_module_version": "1.2.0",
      "_model_name": "LayoutModel",
      "_view_count": null,
      "_view_module": "@jupyter-widgets/base",
      "_view_module_version": "1.2.0",
      "_view_name": "LayoutView",
      "align_content": null,
      "align_items": null,
      "align_self": null,
      "border": null,
      "bottom": null,
      "display": "inline-flex",
      "flex": null,
      "flex_flow": "row wrap",
      "grid_area": null,
      "grid_auto_columns": null,
      "grid_auto_flow": null,
      "grid_auto_rows": null,
      "grid_column": null,
      "grid_gap": null,
      "grid_row": null,
      "grid_template_areas": null,
      "grid_template_columns": null,
      "grid_template_rows": null,
      "height": null,
      "justify_content": null,
      "justify_items": null,
      "left": null,
      "margin": null,
      "max_height": null,
      "max_width": null,
      "min_height": null,
      "min_width": null,
      "object_fit": null,
      "object_position": null,
      "order": null,
      "overflow": null,
      "overflow_x": null,
      "overflow_y": null,
      "padding": null,
      "right": null,
      "top": null,
      "visibility": null,
      "width": "100%"
     }
    },
    "3776474d15a847b199058820fd918b8c": {
     "model_module": "@jupyter-widgets/base",
     "model_module_version": "1.2.0",
     "model_name": "LayoutModel",
     "state": {
      "_model_module": "@jupyter-widgets/base",
      "_model_module_version": "1.2.0",
      "_model_name": "LayoutModel",
      "_view_count": null,
      "_view_module": "@jupyter-widgets/base",
      "_view_module_version": "1.2.0",
      "_view_name": "LayoutView",
      "align_content": null,
      "align_items": null,
      "align_self": null,
      "border": null,
      "bottom": null,
      "display": null,
      "flex": null,
      "flex_flow": null,
      "grid_area": null,
      "grid_auto_columns": null,
      "grid_auto_flow": null,
      "grid_auto_rows": null,
      "grid_column": null,
      "grid_gap": null,
      "grid_row": null,
      "grid_template_areas": null,
      "grid_template_columns": null,
      "grid_template_rows": null,
      "height": null,
      "justify_content": null,
      "justify_items": null,
      "left": null,
      "margin": null,
      "max_height": null,
      "max_width": null,
      "min_height": null,
      "min_width": null,
      "object_fit": null,
      "object_position": null,
      "order": null,
      "overflow": null,
      "overflow_x": null,
      "overflow_y": null,
      "padding": null,
      "right": null,
      "top": null,
      "visibility": null,
      "width": null
     }
    },
    "3863b3ccac3d4fa1a5f145ee15776859": {
     "model_module": "@jupyter-widgets/controls",
     "model_module_version": "1.5.0",
     "model_name": "FloatProgressModel",
     "state": {
      "_dom_classes": [],
      "_model_module": "@jupyter-widgets/controls",
      "_model_module_version": "1.5.0",
      "_model_name": "FloatProgressModel",
      "_view_count": null,
      "_view_module": "@jupyter-widgets/controls",
      "_view_module_version": "1.5.0",
      "_view_name": "ProgressView",
      "bar_style": "success",
      "description": "",
      "description_tooltip": null,
      "layout": "IPY_MODEL_886677e9c9bc45d9931a8ebc0430d8c8",
      "max": 1,
      "min": 0,
      "orientation": "horizontal",
      "style": "IPY_MODEL_e3f78c44c632454db74a192d7d4242a8",
      "value": 1
     }
    },
    "5e8d0944415b470ba615c112f7c0827a": {
     "model_module": "@jupyter-widgets/controls",
     "model_module_version": "1.5.0",
     "model_name": "HBoxModel",
     "state": {
      "_dom_classes": [],
      "_model_module": "@jupyter-widgets/controls",
      "_model_module_version": "1.5.0",
      "_model_name": "HBoxModel",
      "_view_count": null,
      "_view_module": "@jupyter-widgets/controls",
      "_view_module_version": "1.5.0",
      "_view_name": "HBoxView",
      "box_style": "",
      "children": [
       "IPY_MODEL_84d3115eaf1f4e33af35fa368b315eae",
       "IPY_MODEL_3863b3ccac3d4fa1a5f145ee15776859",
       "IPY_MODEL_83c6ba102e8044038a94bf18900ea732"
      ],
      "layout": "IPY_MODEL_026001999b764ad0b24397aec0f433ca"
     }
    },
    "83c6ba102e8044038a94bf18900ea732": {
     "model_module": "@jupyter-widgets/controls",
     "model_module_version": "1.5.0",
     "model_name": "HTMLModel",
     "state": {
      "_dom_classes": [],
      "_model_module": "@jupyter-widgets/controls",
      "_model_module_version": "1.5.0",
      "_model_name": "HTMLModel",
      "_view_count": null,
      "_view_module": "@jupyter-widgets/controls",
      "_view_module_version": "1.5.0",
      "_view_name": "HTMLView",
      "description": "",
      "description_tooltip": null,
      "layout": "IPY_MODEL_9d980e0f44f347fbacc029097a5fc48d",
      "placeholder": "​",
      "style": "IPY_MODEL_9ce185fe997b4cf2a47a73effe9b77e5",
      "value": " [100%]   00:00 -&gt; (00:00 left)"
     }
    },
    "84d3115eaf1f4e33af35fa368b315eae": {
     "model_module": "@jupyter-widgets/controls",
     "model_module_version": "1.5.0",
     "model_name": "HTMLModel",
     "state": {
      "_dom_classes": [],
      "_model_module": "@jupyter-widgets/controls",
      "_model_module_version": "1.5.0",
      "_model_name": "HTMLModel",
      "_view_count": null,
      "_view_module": "@jupyter-widgets/controls",
      "_view_module_version": "1.5.0",
      "_view_name": "HTMLView",
      "description": "",
      "description_tooltip": null,
      "layout": "IPY_MODEL_3776474d15a847b199058820fd918b8c",
      "placeholder": "​",
      "style": "IPY_MODEL_abb6f0b851ab468ea50edefe2885e4c4",
      "value": "Done! Use &#x27;show&#x27; commands to display/save.   "
     }
    },
    "886677e9c9bc45d9931a8ebc0430d8c8": {
     "model_module": "@jupyter-widgets/base",
     "model_module_version": "1.2.0",
     "model_name": "LayoutModel",
     "state": {
      "_model_module": "@jupyter-widgets/base",
      "_model_module_version": "1.2.0",
      "_model_name": "LayoutModel",
      "_view_count": null,
      "_view_module": "@jupyter-widgets/base",
      "_view_module_version": "1.2.0",
      "_view_name": "LayoutView",
      "align_content": null,
      "align_items": null,
      "align_self": null,
      "border": null,
      "bottom": null,
      "display": null,
      "flex": "2",
      "flex_flow": null,
      "grid_area": null,
      "grid_auto_columns": null,
      "grid_auto_flow": null,
      "grid_auto_rows": null,
      "grid_column": null,
      "grid_gap": null,
      "grid_row": null,
      "grid_template_areas": null,
      "grid_template_columns": null,
      "grid_template_rows": null,
      "height": null,
      "justify_content": null,
      "justify_items": null,
      "left": null,
      "margin": null,
      "max_height": null,
      "max_width": null,
      "min_height": null,
      "min_width": null,
      "object_fit": null,
      "object_position": null,
      "order": null,
      "overflow": null,
      "overflow_x": null,
      "overflow_y": null,
      "padding": null,
      "right": null,
      "top": null,
      "visibility": null,
      "width": null
     }
    },
    "9ce185fe997b4cf2a47a73effe9b77e5": {
     "model_module": "@jupyter-widgets/controls",
     "model_module_version": "1.5.0",
     "model_name": "DescriptionStyleModel",
     "state": {
      "_model_module": "@jupyter-widgets/controls",
      "_model_module_version": "1.5.0",
      "_model_name": "DescriptionStyleModel",
      "_view_count": null,
      "_view_module": "@jupyter-widgets/base",
      "_view_module_version": "1.2.0",
      "_view_name": "StyleView",
      "description_width": ""
     }
    },
    "9d980e0f44f347fbacc029097a5fc48d": {
     "model_module": "@jupyter-widgets/base",
     "model_module_version": "1.2.0",
     "model_name": "LayoutModel",
     "state": {
      "_model_module": "@jupyter-widgets/base",
      "_model_module_version": "1.2.0",
      "_model_name": "LayoutModel",
      "_view_count": null,
      "_view_module": "@jupyter-widgets/base",
      "_view_module_version": "1.2.0",
      "_view_name": "LayoutView",
      "align_content": null,
      "align_items": null,
      "align_self": null,
      "border": null,
      "bottom": null,
      "display": null,
      "flex": null,
      "flex_flow": null,
      "grid_area": null,
      "grid_auto_columns": null,
      "grid_auto_flow": null,
      "grid_auto_rows": null,
      "grid_column": null,
      "grid_gap": null,
      "grid_row": null,
      "grid_template_areas": null,
      "grid_template_columns": null,
      "grid_template_rows": null,
      "height": null,
      "justify_content": null,
      "justify_items": null,
      "left": null,
      "margin": null,
      "max_height": null,
      "max_width": null,
      "min_height": null,
      "min_width": null,
      "object_fit": null,
      "object_position": null,
      "order": null,
      "overflow": null,
      "overflow_x": null,
      "overflow_y": null,
      "padding": null,
      "right": null,
      "top": null,
      "visibility": null,
      "width": null
     }
    },
    "abb6f0b851ab468ea50edefe2885e4c4": {
     "model_module": "@jupyter-widgets/controls",
     "model_module_version": "1.5.0",
     "model_name": "DescriptionStyleModel",
     "state": {
      "_model_module": "@jupyter-widgets/controls",
      "_model_module_version": "1.5.0",
      "_model_name": "DescriptionStyleModel",
      "_view_count": null,
      "_view_module": "@jupyter-widgets/base",
      "_view_module_version": "1.2.0",
      "_view_name": "StyleView",
      "description_width": ""
     }
    },
    "e3f78c44c632454db74a192d7d4242a8": {
     "model_module": "@jupyter-widgets/controls",
     "model_module_version": "1.5.0",
     "model_name": "ProgressStyleModel",
     "state": {
      "_model_module": "@jupyter-widgets/controls",
      "_model_module_version": "1.5.0",
      "_model_name": "ProgressStyleModel",
      "_view_count": null,
      "_view_module": "@jupyter-widgets/base",
      "_view_module_version": "1.2.0",
      "_view_name": "StyleView",
      "bar_color": null,
      "description_width": ""
     }
    }
   }
  }
 },
 "nbformat": 4,
 "nbformat_minor": 1
}
